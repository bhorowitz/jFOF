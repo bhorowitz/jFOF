{
 "cells": [
  {
   "cell_type": "code",
   "execution_count": 2,
   "id": "e09a2bad-19ee-4439-923f-8c1d8872f15f",
   "metadata": {},
   "outputs": [],
   "source": [
    "#topology tester...\n",
    "import os; os.environ['XLA_PYTHON_CLIENT_MEM_FRACTION']='1.' # NOTE: jax preallocates GPU (default 75%)\n",
    "\n",
    "os.environ['CUDA_DEVICE_ORDER'] = 'PCI_BUS_ID'\n",
    "os.environ['CUDA_VISIBLE_DEVICES'] = '3'\n",
    "\n",
    "\n",
    "import jax\n",
    "import jax.numpy as jnp\n",
    "from jax import lax\n",
    "import jaxkd as jk \n",
    "\n",
    "import jax\n",
    "import jax.numpy as jnp\n",
    "from jax import lax\n",
    "import jaxkd as jk"
   ]
  },
  {
   "cell_type": "code",
   "execution_count": 4,
   "id": "8c4a1bb1-c098-447c-a972-00cd5e79f473",
   "metadata": {},
   "outputs": [],
   "source": [
    "\n",
    "\n",
    "LOGIT_CLIP = 30.0\n",
    "MASK_LOGIT = -30.0\n",
    "\n",
    "def _ensure_xyz32(pos):\n",
    "    pos = jnp.asarray(pos).astype(jnp.float32, copy=False)\n",
    "    if pos.ndim != 2: raise ValueError(\"pos must be (N,2/3)\")\n",
    "    N, D = pos.shape\n",
    "    if D == 3: return pos\n",
    "    if D == 2: return jnp.concatenate([pos, jnp.zeros((N,1), pos.dtype)], 1)\n",
    "    raise ValueError(\"pos must be (N,2/3)\")\n",
    "\n",
    "def _knn_neighbors(pos32, k, cuda=False):\n",
    "    tree = jk.build_tree(pos32, cuda=cuda)\n",
    "    nbr_idx, _ = jk.query_neighbors(tree, pos32, k=k, cuda=cuda)\n",
    "    return nbr_idx  # [N,k] (may contain -1)\n",
    "\n",
    "def _edge_logits_from_knn(pos32, nbr_idx, b, alpha):\n",
    "    N, k = nbr_idx.shape\n",
    "    i = jnp.repeat(jnp.arange(N, dtype=jnp.int32), k)\n",
    "    j = nbr_idx.reshape(-1)\n",
    "    valid = (j >= 0)\n",
    "    j_safe = jnp.where(valid, j, 0)\n",
    "\n",
    "    diff = pos32[i] - pos32[j_safe]\n",
    "    d2   = jnp.sum(diff * diff, axis=1)\n",
    "    b2   = jnp.asarray(b, pos32.dtype)**2\n",
    "    z    = alpha * (b2 - d2) / (jnp.abs(b2) + 1e-12)\n",
    "    z    = jnp.where(valid, z, MASK_LOGIT)\n",
    "    return jnp.clip(z, -LOGIT_CLIP, LOGIT_CLIP)   # [N*k]\n",
    "\n",
    "def _binary_concrete_st(key, logits, tau=0.5):\n",
    "    # Gumbel noise\n",
    "    u = jax.random.uniform(key, logits.shape, minval=1e-6, maxval=1-1e-6)\n",
    "    g = jnp.log(u) - jnp.log1p(-u)\n",
    "    y_soft = jax.nn.sigmoid((logits + g) / jnp.asarray(tau, logits.dtype))\n",
    "    y_hard = (y_soft > 0.5).astype(jnp.int32)\n",
    "    # straight-through estimator\n",
    "    y_st = y_hard + jax.lax.stop_gradient(y_soft - y_hard)\n",
    "    return y_st, y_hard, y_soft\n",
    "\n",
    "def _cc_label_prop_dense_masked_st(pos32, nbr_idx, b, max_iters, edge_on_flat):\n",
    "    N, k = nbr_idx.shape\n",
    "    labels0 = jnp.arange(N, dtype=jnp.int32)\n",
    "    i   = jnp.arange(N, dtype=jnp.int32)\n",
    "    src = jnp.repeat(i, k)\n",
    "    dst = nbr_idx.reshape(-1)\n",
    "\n",
    "    dst_ge0   = (dst >= 0)\n",
    "    non_self  = (src != jnp.where(dst_ge0, dst, 0))\n",
    "    valid_idx = dst_ge0 & non_self\n",
    "    dst_safe  = jnp.where(dst_ge0, dst, 0)\n",
    "\n",
    "    d  = pos32[src] - pos32[dst_safe]\n",
    "    b2 = jnp.asarray(b, pos32.dtype)**2\n",
    "    within = jnp.sum(d * d, axis=1) <= b2\n",
    "\n",
    "    edge_on = (edge_on_flat > 0)\n",
    "    valid = valid_idx & within & edge_on\n",
    "\n",
    "    big = jnp.int32(N)\n",
    "    def one_iter(labels):\n",
    "        incoming = jnp.full((N,), big, dtype=jnp.int32)\n",
    "        incoming = incoming.at[dst_safe].min(jnp.where(valid, labels[src], big))\n",
    "        incoming = incoming.at[src].min(jnp.where(valid, labels[dst_safe], big))\n",
    "        return jnp.minimum(labels, incoming)\n",
    "\n",
    "    return lax.fori_loop(0, max_iters, lambda _, lab: one_iter(lab), labels0)\n",
    "\n",
    "def _effective_halo_count(labels, *, min_mass=1.0, weights=None):\n",
    "    # JIT/vmap-safe counting with static-N accumulators\n",
    "    N = labels.shape[0]\n",
    "    w = jnp.ones((N,), jnp.float32) if weights is None else weights.astype(jnp.float32)\n",
    "\n",
    "    K = jnp.max(labels) + 1\n",
    "    idx = jnp.arange(N, dtype=jnp.int32)\n",
    "    in_range = (idx < K)\n",
    "\n",
    "    mass_full = jnp.zeros((N,), jnp.float32).at[jnp.where(labels >= 0, labels, 0)].add(\n",
    "        jnp.where(labels >= 0, w, 0.0)\n",
    "    )\n",
    "    keep_full = in_range & (mass_full >= jnp.asarray(min_mass, jnp.float32))\n",
    "    return jnp.sum(keep_full).astype(jnp.float32)"
   ]
  },
  {
   "cell_type": "code",
   "execution_count": 5,
   "id": "8078ce7a-6278-4839-9fe1-655918848110",
   "metadata": {},
   "outputs": [],
   "source": [
    "def one_sample_gumbel_terms_positions(key, pos_params, *,\n",
    "                                      b, alpha, k, max_iters,\n",
    "                                      tau=0.5, min_mass=1.0, weights=None,\n",
    "                                      cuda=False, sign=+1):\n",
    "    \"\"\"\n",
    "    sign = +1 -> minimize #halos; sign = -1 -> maximize #halos.\n",
    "    No REINFORCE term here; gradients flow via ST-Concrete through logits -> positions.\n",
    "    \"\"\"\n",
    "    pos32   = _ensure_xyz32(pos_params)\n",
    "    nbr_idx = _knn_neighbors(pos32, k, cuda=cuda)\n",
    "\n",
    "    logits = _edge_logits_from_knn(pos32, nbr_idx, b, alpha)   # [N*k]\n",
    "    y_st, y_hard, _ = _binary_concrete_st(key, logits, tau=tau)\n",
    "\n",
    "    # Use HARD mask for CC forward pass (keeps topology exact in forward)\n",
    "    labels = _cc_label_prop_dense_masked_st(pos32, nbr_idx, b, max_iters, y_hard)\n",
    "\n",
    "    # Count halos with min_mass\n",
    "    K_eff  = _effective_halo_count(labels, min_mass=min_mass, weights=weights)\n",
    "    L      = sign * K_eff\n",
    "    # Return just L; the grads wrt positions flow via 'y_st' path (because of ST construction).\n",
    "    # To get that, we need to ensure 'y_hard' doesn't cut the gradient path:\n",
    "    # Replace y_hard with y_st in 'valid' computation. Quick way: re-run CC with y_st in backward only.\n",
    "    # We'll do a detach-swap trick below in the wrapper.\n",
    "    return L, (logits, y_st, y_hard, nbr_idx)"
   ]
  },
  {
   "cell_type": "code",
   "execution_count": 7,
   "id": "b59798a3-0350-4c99-a89a-10a6d29004d1",
   "metadata": {},
   "outputs": [],
   "source": [
    "def one_sample_gumbel_terms_positions(key, pos_params, *,\n",
    "                                      b, alpha, k, max_iters,\n",
    "                                      tau=0.5, min_mass=1.0, weights=None,\n",
    "                                      cuda=False, sign=+1):\n",
    "    pos32   = _ensure_xyz32(pos_params)\n",
    "    nbr_idx = _knn_neighbors(pos32, k, cuda=cuda)\n",
    "\n",
    "    logits = _edge_logits_from_knn(pos32, nbr_idx, b, alpha)\n",
    "    y_st, _, _ = _binary_concrete_st(key, logits, tau=tau)   # use ST mask directly\n",
    "\n",
    "    labels = _cc_label_prop_dense_masked_st(pos32, nbr_idx, b, max_iters, y_st)\n",
    "\n",
    "    K_eff  = _effective_halo_count(labels, min_mass=min_mass, weights=weights)\n",
    "    L      = sign * K_eff\n",
    "    return L\n",
    "\n",
    "def loss_and_grad_positions_gumbel(pos_params, key, *,\n",
    "                                   b, alpha=5.0, k=16, max_iters=50,\n",
    "                                   tau=0.5, min_mass=1.0, weights=None,\n",
    "                                   S=16, cuda=False, sign=+1):\n",
    "    \"\"\"\n",
    "    Returns (mean_L, grad wrt pos_params) using ST-Concrete (no REINFORCE term).\n",
    "    \"\"\"\n",
    "    keys = jax.random.split(key, S)\n",
    "\n",
    "    def batch_objective(pp):\n",
    "        Ls = jax.vmap(lambda kk: one_sample_gumbel_terms_positions(\n",
    "            kk, pp, b=b, alpha=alpha, k=k, max_iters=max_iters,\n",
    "            tau=tau, min_mass=min_mass, weights=weights, cuda=cuda, sign=sign))(keys)\n",
    "        return jnp.mean(Ls)\n",
    "\n",
    "    mean_L, g = jax.value_and_grad(batch_objective)(pos_params)\n",
    "    return mean_L, g"
   ]
  },
  {
   "cell_type": "code",
   "execution_count": 56,
   "id": "dc6788bb-9ff7-46e4-8f98-48eb6bb65805",
   "metadata": {},
   "outputs": [],
   "source": [
    "import fof.fofkd as fof\n",
    "\n",
    "def _effective_halo_count(labels, min_mass=1.0, weights=None):\n",
    "    \"\"\"Count halos whose mass >= min_mass. Uses static-N buffers (JIT/vmap-safe).\"\"\"\n",
    "    N = labels.shape[0]\n",
    "    w = jnp.ones((N,), jnp.float32) if weights is None else weights.astype(jnp.float32)\n",
    "\n",
    "    K = jnp.max(labels) + 1\n",
    "    idx = jnp.arange(N, dtype=jnp.int32)\n",
    "    in_range = (idx < K)\n",
    "\n",
    "    mass_full = jnp.zeros((N,), jnp.float32).at[jnp.where(labels >= 0, labels, 0)].add(\n",
    "        jnp.where(labels >= 0, w, 0.0)\n",
    "    )\n",
    "    keep_full = in_range & (mass_full >= jnp.asarray(min_mass, jnp.float32))\n",
    "    return jnp.sum(keep_full).astype(jnp.float32)  # scalar\n",
    "\n",
    "\n",
    "def count_halos_deterministic(pos, b, k, max_iters, min_mass=1.0, cuda=False, weights=None):\n",
    "    pos32 = _ensure_xyz32(pos)\n",
    "    # Your existing hard FoF:\n",
    "    labels, compact_labels, sizes_padded, nC = fof.fof_clusters_jit(pos32, b=b, k=k, max_iters=max_iters, cuda=cuda)\n",
    "    # Count with min-mass; labels are already 0..K-1\n",
    "    return _effective_halo_count(labels, min_mass=min_mass, weights=weights)\n",
    "\n",
    "def loss_and_grad_positions_gumbel_edges(pos_params, key, *,\n",
    "                                         b, alpha=3.0, k=16, max_iters=0,   # CC unused\n",
    "                                         tau=1.0, S=16, min_mass=1.0,cuda=False, sign=+1):\n",
    "    keys = jax.random.split(key, S)\n",
    "    pos32 = _ensure_xyz32(pos_params)\n",
    "    nbr_idx = _knn_neighbors(pos32, k, cuda=cuda)\n",
    "\n",
    "    def one(kk, pos):\n",
    "        logits = _edge_logits_from_knn(pos, nbr_idx, b, alpha)\n",
    "        u = jax.random.uniform(\n",
    "            kk, shape=logits.shape, dtype=logits.dtype,\n",
    "            minval=1e-6, maxval=1.0 - 1e-6\n",
    "        )\n",
    "       \n",
    "        g = jnp.log(u) - jnp.log1p(-u)\n",
    "        y_soft = jax.nn.sigmoid((logits + g) / tau)\n",
    "        # Max components -> minimize edges => sign = +1\n",
    "        return sign * jnp.sum(y_soft)   # smooth, nonzero grads\n",
    "\n",
    "    def batch_obj(p):\n",
    "        Ls = jax.vmap(lambda kk: one(kk, p))(keys)\n",
    "        return jnp.mean(Ls)\n",
    "\n",
    "    mean_L, g = jax.value_and_grad(batch_obj)(pos32)\n",
    "    return mean_L, g"
   ]
  },
  {
   "cell_type": "code",
   "execution_count": 60,
   "id": "1a8e8ff1-36fd-4f2d-899e-6488a0754710",
   "metadata": {},
   "outputs": [],
   "source": [
    "key = jax.random.PRNGKey(0)\n",
    "N = 1_000\n",
    "pos0 = jax.random.uniform(key, (N, 2), minval=0.0, maxval=1.0).astype(jnp.float32)*3\n",
    "\n",
    "# FoF + Gumbel params\n",
    "b = 0.1\n",
    "k = 16\n",
    "alpha = 5.0\n",
    "max_iters = 50\n",
    "min_mass = 5.0\n",
    "sign = -1           # -1 to maximize clusters, +1 to minimize\n",
    "tau = 0.7           # start soft-ish\n"
   ]
  },
  {
   "cell_type": "code",
   "execution_count": 61,
   "id": "00038d5b-1075-48f1-9096-44c77bb80936",
   "metadata": {},
   "outputs": [
    {
     "data": {
      "text/plain": [
       "Array(41., dtype=float32)"
      ]
     },
     "execution_count": 61,
     "metadata": {},
     "output_type": "execute_result"
    }
   ],
   "source": [
    "count_halos_deterministic(pos0,b,k,max_iters,min_mass)"
   ]
  },
  {
   "cell_type": "code",
   "execution_count": 64,
   "id": "eb0579fa-dfe5-4de5-bcaa-666c2d1847b6",
   "metadata": {},
   "outputs": [],
   "source": [
    "pos_i = _ensure_xyz32(pos0)"
   ]
  },
  {
   "cell_type": "code",
   "execution_count": 67,
   "id": "a6282218-fd41-40b2-b495-7372678df112",
   "metadata": {},
   "outputs": [
    {
     "name": "stdout",
     "output_type": "stream",
     "text": [
      "0 41.0\n",
      "1 41.0\n",
      "2 41.0\n",
      "3 41.0\n",
      "4 42.0\n",
      "5 42.0\n",
      "6 42.0\n",
      "7 41.0\n",
      "8 40.0\n",
      "9 40.0\n",
      "10 41.0\n",
      "11 40.0\n",
      "12 39.0\n",
      "13 40.0\n",
      "14 41.0\n",
      "15 41.0\n",
      "16 40.0\n",
      "17 40.0\n",
      "18 40.0\n",
      "19 40.0\n",
      "20 40.0\n",
      "21 41.0\n",
      "22 39.0\n",
      "23 38.0\n",
      "24 36.0\n",
      "25 36.0\n",
      "26 38.0\n",
      "27 38.0\n",
      "28 37.0\n",
      "29 39.0\n",
      "30 38.0\n",
      "31 38.0\n",
      "32 39.0\n",
      "33 39.0\n",
      "34 38.0\n",
      "35 38.0\n",
      "36 39.0\n",
      "37 39.0\n",
      "38 41.0\n",
      "39 41.0\n",
      "40 41.0\n",
      "41 41.0\n",
      "42 42.0\n",
      "43 43.0\n",
      "44 43.0\n",
      "45 44.0\n",
      "46 46.0\n",
      "47 46.0\n",
      "48 46.0\n",
      "49 47.0\n",
      "50 47.0\n",
      "51 48.0\n",
      "52 48.0\n",
      "53 49.0\n",
      "54 49.0\n",
      "55 50.0\n",
      "56 51.0\n",
      "57 53.0\n",
      "58 53.0\n",
      "59 54.0\n",
      "60 55.0\n",
      "61 58.0\n",
      "62 58.0\n",
      "63 58.0\n",
      "64 59.0\n",
      "65 60.0\n",
      "66 60.0\n",
      "67 60.0\n",
      "68 61.0\n",
      "69 61.0\n",
      "70 61.0\n",
      "71 63.0\n",
      "72 63.0\n",
      "73 62.0\n",
      "74 64.0\n",
      "75 64.0\n",
      "76 64.0\n",
      "77 64.0\n",
      "78 64.0\n",
      "79 65.0\n",
      "80 66.0\n",
      "81 68.0\n",
      "82 68.0\n",
      "83 67.0\n",
      "84 67.0\n",
      "85 67.0\n",
      "86 68.0\n",
      "87 69.0\n",
      "88 69.0\n",
      "89 69.0\n",
      "90 70.0\n",
      "91 70.0\n",
      "92 70.0\n",
      "93 70.0\n",
      "94 70.0\n",
      "95 71.0\n",
      "96 72.0\n",
      "97 72.0\n",
      "98 72.0\n",
      "99 72.0\n"
     ]
    }
   ],
   "source": [
    "# One step\n",
    "for i in range(0,100):\n",
    "    L, gpos = loss_and_grad_positions_gumbel_edges(\n",
    "        pos_i, jax.random.PRNGKey(42),\n",
    "        b=b, alpha=alpha, k=k, max_iters=max_iters,\n",
    "        tau=tau, min_mass=min_mass, S=16, cuda=False, sign=sign\n",
    "    )\n",
    "    pos_i = pos_i - 1e-5 * gpos\n",
    "    print(i,count_halos_deterministic(pos_i,b,k,max_iters,min_mass))"
   ]
  },
  {
   "cell_type": "code",
   "execution_count": 68,
   "id": "870bd2ab-78f5-4140-ac2b-cddd413c493d",
   "metadata": {},
   "outputs": [],
   "source": [
    "labels, compact_labels, sizes_padded, nC = fof.fof_clusters_jit(pos_i, b=b, k=k, max_iters=max_iters, cuda=False)\n"
   ]
  },
  {
   "cell_type": "code",
   "execution_count": 69,
   "id": "c4ecee4a-15ae-4035-8640-d4a72fbd2d0d",
   "metadata": {},
   "outputs": [
    {
     "name": "stdout",
     "output_type": "stream",
     "text": [
      "%pylab is deprecated, use %matplotlib inline and import the required libraries.\n",
      "Populating the interactive namespace from numpy and matplotlib\n"
     ]
    },
    {
     "name": "stderr",
     "output_type": "stream",
     "text": [
      "/home/ben.horowitz/miniconda3/envs/fof/lib/python3.13/site-packages/IPython/core/magics/pylab.py:166: UserWarning: pylab import has clobbered these variables: ['sign']\n",
      "`%matplotlib` prevents importing * from pylab and numpy\n",
      "  warn(\"pylab import has clobbered these variables: %s\"  % clobbered +\n"
     ]
    },
    {
     "data": {
      "text/plain": [
       "[<matplotlib.lines.Line2D at 0x7159bc13d950>]"
      ]
     },
     "execution_count": 69,
     "metadata": {},
     "output_type": "execute_result"
    },
    {
     "data": {
      "image/png": "[encoded data removed]",
      "text/plain": [
       "<Figure size 640x480 with 1 Axes>"
      ]
     },
     "metadata": {},
     "output_type": "display_data"
    }
   ],
   "source": [
    "%pylab inline\n",
    "N = labels.shape[0]\n",
    "\n",
    "K = jnp.max(labels) + 1\n",
    "idx = jnp.arange(N, dtype=jnp.int32)\n",
    "in_range = (idx < K)\n",
    "\n",
    "mass_full = jnp.zeros((N,), jnp.float32).at[jnp.where(labels >= 0, labels, 0)].add(\n",
    "    jnp.where(labels >= 0, 1.0, 0.0)\n",
    ")\n",
    "keep_full_i = in_range & (mass_full >= jnp.asarray(min_mass, jnp.float32))\n",
    "\n",
    "plt.plot(pos_i[:,0][keep_full_i],pos_i[:,1][keep_full_i],\"r.\",markersize=1)"
   ]
  },
  {
   "cell_type": "code",
   "execution_count": 70,
   "id": "fe48424a-0352-4308-943b-df0781ecd3ce",
   "metadata": {},
   "outputs": [
    {
     "data": {
      "text/plain": [
       "[<matplotlib.lines.Line2D at 0x71597059a850>]"
      ]
     },
     "execution_count": 70,
     "metadata": {},
     "output_type": "execute_result"
    },
    {
     "data": {
      "image/png": "[encoded data removed]",
      "text/plain": [
       "<Figure size 640x480 with 1 Axes>"
      ]
     },
     "metadata": {},
     "output_type": "display_data"
    }
   ],
   "source": [
    "labels, compact_labels, sizes_padded, nC = fof.fof_clusters_jit(pos0, b=b, k=k, max_iters=max_iters, cuda=False)\n",
    "\n",
    "N = labels.shape[0]\n",
    "\n",
    "K = jnp.max(labels) + 1\n",
    "idx = jnp.arange(N, dtype=jnp.int32)\n",
    "in_range = (idx < K)\n",
    "\n",
    "mass_full = jnp.zeros((N,), jnp.float32).at[jnp.where(labels >= 0, labels, 0)].add(\n",
    "    jnp.where(labels >= 0, 1.0, 0.0)\n",
    ")\n",
    "keep_full = in_range & (mass_full >= jnp.asarray(min_mass, jnp.float32))\n",
    "plt.plot(pos0[:,0][keep_full],pos0[:,1][keep_full],\"r.\",markersize=10)\n",
    "plt.plot(pos_i[:,0][keep_full_i],pos_i[:,1][keep_full_i],\"kx\",markersize=10)"
   ]
  },
  {
   "cell_type": "code",
   "execution_count": 71,
   "id": "8be5fed1-fe45-4d4f-b8eb-07d399416739",
   "metadata": {},
   "outputs": [
    {
     "data": {
      "image/png": "[encoded data removed]",
      "text/plain": [
       "<Figure size 640x480 with 1 Axes>"
      ]
     },
     "metadata": {},
     "output_type": "display_data"
    },
    {
     "data": {
      "text/plain": [
       "[<matplotlib.lines.Line2D at 0x715970494cd0>]"
      ]
     },
     "execution_count": 71,
     "metadata": {},
     "output_type": "execute_result"
    },
    {
     "data": {
      "image/png": "[encoded data removed]",
      "text/plain": [
       "<Figure size 640x480 with 1 Axes>"
      ]
     },
     "metadata": {},
     "output_type": "display_data"
    }
   ],
   "source": [
    "plt.plot(pos0[:,0],pos0[:,1],\"k.\",markersize=1)\n",
    "plt.show()\n",
    "plt.plot(pos_i[:,0],pos_i[:,1],\"r.\",markersize=1)"
   ]
  },
  {
   "cell_type": "code",
   "execution_count": null,
   "id": "e3e6885b-e273-4c1b-b7ab-e668b43467c2",
   "metadata": {},
   "outputs": [],
   "source": []
  }
 ],
 "metadata": {
  "kernelspec": {
   "display_name": "“off”",
   "language": "python",
   "name": "for"
  },
  "language_info": {
   "codemirror_mode": {
    "name": "ipython",
    "version": 3
   },
   "file_extension": ".py",
   "mimetype": "text/x-python",
   "name": "python",
   "nbconvert_exporter": "python",
   "pygments_lexer": "ipython3",
   "version": "3.13.7"
  }
 },
 "nbformat": 4,
 "nbformat_minor": 5
}
